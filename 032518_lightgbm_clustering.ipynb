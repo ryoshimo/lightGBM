{
 "cells": [
  {
   "cell_type": "code",
   "execution_count": 2,
   "metadata": {
    "collapsed": false
   },
   "outputs": [
    {
     "name": "stdout",
     "output_type": "stream",
     "text": [
      "(10499, 11)\n",
      "index                      int64\n",
      "left                       int64\n",
      "satisfaction_level       float64\n",
      "last_evaluation          float64\n",
      "number_project             int64\n",
      "average_montly_hours       int64\n",
      "time_spend_company         int64\n",
      "Work_accident              int64\n",
      "promotion_last_5years      int64\n",
      "sales                      int64\n",
      "salary                     int64\n",
      "dtype: object\n"
     ]
    },
    {
     "data": {
      "text/plain": [
       "index                    0\n",
       "left                     0\n",
       "satisfaction_level       0\n",
       "last_evaluation          0\n",
       "number_project           0\n",
       "average_montly_hours     0\n",
       "time_spend_company       0\n",
       "Work_accident            0\n",
       "promotion_last_5years    0\n",
       "sales                    0\n",
       "salary                   0\n",
       "dtype: int64"
      ]
     },
     "execution_count": 2,
     "metadata": {},
     "output_type": "execute_result"
    }
   ],
   "source": [
    "import pandas as pd\n",
    "# Import data\n",
    "#Item_Fat_Content等を数字で置き換える。lightGBMはカテゴリ変数が扱えるので０始まりの数字に置き換えた。\n",
    "df = pd.read_csv('train.csv', header=0).replace(\"low\",0).replace(\"medium\",1).replace(\"high\",2).replace(\"RandD\",0).replace(\"management\",1).replace(\"hr\",2).replace(\"IT\",3).replace(\"technical\",4).replace(\"product_mng\",5).replace(\"accounting\",6).replace(\"support\",7).replace(\"sales\",8).replace(\"marketing\",9)\n",
    "print(df.shape)\n",
    "print(df.dtypes)\n",
    "#欠損値を調べる\n",
    "df.isnull().sum()"
   ]
  },
  {
   "cell_type": "code",
   "execution_count": 3,
   "metadata": {
    "collapsed": false
   },
   "outputs": [
    {
     "data": {
      "text/html": [
       "<div>\n",
       "<table border=\"1\" class=\"dataframe\">\n",
       "  <thead>\n",
       "    <tr style=\"text-align: right;\">\n",
       "      <th></th>\n",
       "      <th>index</th>\n",
       "      <th>left</th>\n",
       "      <th>satisfaction_level</th>\n",
       "      <th>last_evaluation</th>\n",
       "      <th>number_project</th>\n",
       "      <th>average_montly_hours</th>\n",
       "      <th>time_spend_company</th>\n",
       "      <th>Work_accident</th>\n",
       "      <th>promotion_last_5years</th>\n",
       "      <th>sales</th>\n",
       "      <th>salary</th>\n",
       "    </tr>\n",
       "  </thead>\n",
       "  <tbody>\n",
       "    <tr>\n",
       "      <th>0</th>\n",
       "      <td>10438</td>\n",
       "      <td>0</td>\n",
       "      <td>0.53</td>\n",
       "      <td>0.52</td>\n",
       "      <td>2</td>\n",
       "      <td>135</td>\n",
       "      <td>4</td>\n",
       "      <td>0</td>\n",
       "      <td>0</td>\n",
       "      <td>4</td>\n",
       "      <td>1</td>\n",
       "    </tr>\n",
       "    <tr>\n",
       "      <th>1</th>\n",
       "      <td>9236</td>\n",
       "      <td>0</td>\n",
       "      <td>0.77</td>\n",
       "      <td>0.53</td>\n",
       "      <td>5</td>\n",
       "      <td>256</td>\n",
       "      <td>3</td>\n",
       "      <td>0</td>\n",
       "      <td>0</td>\n",
       "      <td>6</td>\n",
       "      <td>1</td>\n",
       "    </tr>\n",
       "    <tr>\n",
       "      <th>2</th>\n",
       "      <td>818</td>\n",
       "      <td>1</td>\n",
       "      <td>0.89</td>\n",
       "      <td>0.79</td>\n",
       "      <td>3</td>\n",
       "      <td>149</td>\n",
       "      <td>2</td>\n",
       "      <td>0</td>\n",
       "      <td>0</td>\n",
       "      <td>7</td>\n",
       "      <td>1</td>\n",
       "    </tr>\n",
       "  </tbody>\n",
       "</table>\n",
       "</div>"
      ],
      "text/plain": [
       "   index  left  satisfaction_level  last_evaluation  number_project  \\\n",
       "0  10438     0                0.53             0.52               2   \n",
       "1   9236     0                0.77             0.53               5   \n",
       "2    818     1                0.89             0.79               3   \n",
       "\n",
       "   average_montly_hours  time_spend_company  Work_accident  \\\n",
       "0                   135                   4              0   \n",
       "1                   256                   3              0   \n",
       "2                   149                   2              0   \n",
       "\n",
       "   promotion_last_5years  sales  salary  \n",
       "0                      0      4       1  \n",
       "1                      0      6       1  \n",
       "2                      0      7       1  "
      ]
     },
     "execution_count": 3,
     "metadata": {},
     "output_type": "execute_result"
    }
   ],
   "source": [
    "df.head(3)"
   ]
  },
  {
   "cell_type": "code",
   "execution_count": 4,
   "metadata": {
    "collapsed": false
   },
   "outputs": [
    {
     "data": {
      "text/plain": [
       "8    2865\n",
       "4    1909\n",
       "7    1550\n",
       "3     870\n",
       "5     628\n",
       "9     601\n",
       "0     558\n",
       "6     536\n",
       "2     534\n",
       "1     448\n",
       "Name: sales, dtype: int64"
      ]
     },
     "execution_count": 4,
     "metadata": {},
     "output_type": "execute_result"
    }
   ],
   "source": [
    "df.sales.value_counts()"
   ]
  },
  {
   "cell_type": "code",
   "execution_count": 19,
   "metadata": {
    "collapsed": false
   },
   "outputs": [
    {
     "data": {
      "text/html": [
       "<div>\n",
       "<table border=\"1\" class=\"dataframe\">\n",
       "  <thead>\n",
       "    <tr style=\"text-align: right;\">\n",
       "      <th></th>\n",
       "      <th>satisfaction_level</th>\n",
       "      <th>last_evaluation</th>\n",
       "      <th>number_project</th>\n",
       "      <th>average_montly_hours</th>\n",
       "      <th>time_spend_company</th>\n",
       "      <th>Work_accident</th>\n",
       "      <th>promotion_last_5years</th>\n",
       "      <th>sales</th>\n",
       "      <th>salary</th>\n",
       "      <th>cluster_id</th>\n",
       "      <th>cluster_id_value</th>\n",
       "    </tr>\n",
       "  </thead>\n",
       "  <tbody>\n",
       "    <tr>\n",
       "      <th>0</th>\n",
       "      <td>0.53</td>\n",
       "      <td>0.52</td>\n",
       "      <td>2</td>\n",
       "      <td>135</td>\n",
       "      <td>4</td>\n",
       "      <td>0</td>\n",
       "      <td>0</td>\n",
       "      <td>4</td>\n",
       "      <td>1</td>\n",
       "      <td>2</td>\n",
       "      <td>0.171819</td>\n",
       "    </tr>\n",
       "    <tr>\n",
       "      <th>1</th>\n",
       "      <td>0.77</td>\n",
       "      <td>0.53</td>\n",
       "      <td>5</td>\n",
       "      <td>256</td>\n",
       "      <td>3</td>\n",
       "      <td>0</td>\n",
       "      <td>0</td>\n",
       "      <td>6</td>\n",
       "      <td>1</td>\n",
       "      <td>5</td>\n",
       "      <td>0.660154</td>\n",
       "    </tr>\n",
       "    <tr>\n",
       "      <th>2</th>\n",
       "      <td>0.89</td>\n",
       "      <td>0.79</td>\n",
       "      <td>3</td>\n",
       "      <td>149</td>\n",
       "      <td>2</td>\n",
       "      <td>0</td>\n",
       "      <td>0</td>\n",
       "      <td>7</td>\n",
       "      <td>1</td>\n",
       "      <td>5</td>\n",
       "      <td>0.660154</td>\n",
       "    </tr>\n",
       "    <tr>\n",
       "      <th>3</th>\n",
       "      <td>0.64</td>\n",
       "      <td>0.63</td>\n",
       "      <td>3</td>\n",
       "      <td>156</td>\n",
       "      <td>6</td>\n",
       "      <td>1</td>\n",
       "      <td>0</td>\n",
       "      <td>7</td>\n",
       "      <td>0</td>\n",
       "      <td>3</td>\n",
       "      <td>0.658440</td>\n",
       "    </tr>\n",
       "    <tr>\n",
       "      <th>4</th>\n",
       "      <td>0.98</td>\n",
       "      <td>0.74</td>\n",
       "      <td>4</td>\n",
       "      <td>151</td>\n",
       "      <td>3</td>\n",
       "      <td>0</td>\n",
       "      <td>0</td>\n",
       "      <td>8</td>\n",
       "      <td>1</td>\n",
       "      <td>5</td>\n",
       "      <td>0.660154</td>\n",
       "    </tr>\n",
       "  </tbody>\n",
       "</table>\n",
       "</div>"
      ],
      "text/plain": [
       "   satisfaction_level  last_evaluation  number_project  average_montly_hours  \\\n",
       "0                0.53             0.52               2                   135   \n",
       "1                0.77             0.53               5                   256   \n",
       "2                0.89             0.79               3                   149   \n",
       "3                0.64             0.63               3                   156   \n",
       "4                0.98             0.74               4                   151   \n",
       "\n",
       "   time_spend_company  Work_accident  promotion_last_5years  sales  salary  \\\n",
       "0                   4              0                      0      4       1   \n",
       "1                   3              0                      0      6       1   \n",
       "2                   2              0                      0      7       1   \n",
       "3                   6              1                      0      7       0   \n",
       "4                   3              0                      0      8       1   \n",
       "\n",
       "   cluster_id  cluster_id_value  \n",
       "0           2          0.171819  \n",
       "1           5          0.660154  \n",
       "2           5          0.660154  \n",
       "3           3          0.658440  \n",
       "4           5          0.660154  "
      ]
     },
     "execution_count": 19,
     "metadata": {},
     "output_type": "execute_result"
    }
   ],
   "source": [
    "# Set dataframe\n",
    "ID = df.loc[:, ['index']]\n",
    "X  = df.drop(['index','left'], axis=1)\n",
    "y  = df.loc[:, ['left']]\n",
    "\n",
    "#標準化\n",
    "from sklearn.cluster import KMeans\n",
    "from sklearn.preprocessing import StandardScaler\n",
    "import numpy as np\n",
    "sc = StandardScaler()\n",
    "sc.fit(X)\n",
    "X_std = sc.transform(X)\n",
    "# n=6でK-Meansクラスタリング\n",
    "km = KMeans(n_clusters=6,            \n",
    "            init='random',           \n",
    "            n_init=10,               \n",
    "            max_iter=300,            \n",
    "            tol=1e-04,               \n",
    "            random_state=0)  \n",
    "y_clus = km.fit_predict(X_std)\n",
    "# cluster_idにクラスタリングの数字0-5を代入\n",
    "X['cluster_id']=y_clus\n",
    "X.head()\n",
    "X.cluster_id.value_counts()\n",
    "#X.groupby('cluster_id')[['satisfaction_level']].mean()\n",
    "# クラスタリングのカテゴリに対しsatisfaction_levelで順位をつける。\n",
    "y_value0 = np.where(y_clus == 0, 0.514440, y_clus)\n",
    "y_value1 = np.where(y_value0 == 1, 0.647480, y_value0)\n",
    "y_value2 = np.where(y_value1 == 2, 0.171819, y_value1)\n",
    "y_value3 = np.where(y_value2 == 3, 0.658440, y_value2)\n",
    "y_value4 = np.where(y_value3 == 4, 0.762524, y_value3)\n",
    "y_value5 = np.where(y_value4 == 5, 0.660154, y_value4)\n",
    "\n",
    "#cluster_id_valueにsatisfaction_levelの順位を代入\n",
    "X['cluster_id_value']=y_value5\n",
    "X.head(5)"
   ]
  },
  {
   "cell_type": "code",
   "execution_count": 6,
   "metadata": {
    "collapsed": true
   },
   "outputs": [],
   "source": [
    "from sklearn.model_selection import train_test_split\n",
    "from sklearn.metrics import accuracy_score\n",
    "# split data for crossvalidation\n",
    "X_train, X_test, y_train, y_test = train_test_split(X, y, test_size=0.2, random_state=42)"
   ]
  },
  {
   "cell_type": "code",
   "execution_count": 7,
   "metadata": {
    "collapsed": false
   },
   "outputs": [
    {
     "name": "stderr",
     "output_type": "stream",
     "text": [
      "/Users/ryoshi/.pyenv/versions/anaconda3-4.3.1/lib/python3.6/site-packages/lightgbm/engine.py:99: UserWarning: Found `num_iteration` in params. Will use it instead of argument\n",
      "  warnings.warn(\"Found `{}` in params. Will use it instead of argument\".format(alias))\n"
     ]
    },
    {
     "name": "stdout",
     "output_type": "stream",
     "text": [
      "[1]\tvalid_0's multi_logloss: 0.594698\n",
      "Training until validation scores don't improve for 10 rounds.\n",
      "[2]\tvalid_0's multi_logloss: 0.524339\n",
      "[3]\tvalid_0's multi_logloss: 0.465676\n",
      "[4]\tvalid_0's multi_logloss: 0.416122\n",
      "[5]\tvalid_0's multi_logloss: 0.373897\n",
      "[6]\tvalid_0's multi_logloss: 0.337416\n",
      "[7]\tvalid_0's multi_logloss: 0.305798\n",
      "[8]\tvalid_0's multi_logloss: 0.278462\n",
      "[9]\tvalid_0's multi_logloss: 0.254648\n",
      "[10]\tvalid_0's multi_logloss: 0.233591\n",
      "[11]\tvalid_0's multi_logloss: 0.215251\n",
      "[12]\tvalid_0's multi_logloss: 0.198724\n",
      "[13]\tvalid_0's multi_logloss: 0.184268\n",
      "[14]\tvalid_0's multi_logloss: 0.171508\n",
      "[15]\tvalid_0's multi_logloss: 0.159555\n",
      "[16]\tvalid_0's multi_logloss: 0.149492\n",
      "[17]\tvalid_0's multi_logloss: 0.140461\n",
      "[18]\tvalid_0's multi_logloss: 0.132343\n",
      "[19]\tvalid_0's multi_logloss: 0.125289\n",
      "[20]\tvalid_0's multi_logloss: 0.118568\n",
      "[21]\tvalid_0's multi_logloss: 0.112156\n",
      "[22]\tvalid_0's multi_logloss: 0.10649\n",
      "[23]\tvalid_0's multi_logloss: 0.102189\n",
      "[24]\tvalid_0's multi_logloss: 0.0981195\n",
      "[25]\tvalid_0's multi_logloss: 0.0945164\n",
      "[26]\tvalid_0's multi_logloss: 0.0918343\n",
      "[27]\tvalid_0's multi_logloss: 0.0890185\n",
      "[28]\tvalid_0's multi_logloss: 0.0867287\n",
      "[29]\tvalid_0's multi_logloss: 0.0837505\n",
      "[30]\tvalid_0's multi_logloss: 0.0817437\n",
      "[31]\tvalid_0's multi_logloss: 0.0789451\n",
      "[32]\tvalid_0's multi_logloss: 0.0770432\n",
      "[33]\tvalid_0's multi_logloss: 0.0752519\n",
      "[34]\tvalid_0's multi_logloss: 0.0742145\n",
      "[35]\tvalid_0's multi_logloss: 0.073043\n",
      "[36]\tvalid_0's multi_logloss: 0.0728474\n",
      "[37]\tvalid_0's multi_logloss: 0.0716826\n",
      "[38]\tvalid_0's multi_logloss: 0.0702506\n",
      "[39]\tvalid_0's multi_logloss: 0.0684798\n",
      "[40]\tvalid_0's multi_logloss: 0.0674676\n",
      "[41]\tvalid_0's multi_logloss: 0.0673402\n",
      "[42]\tvalid_0's multi_logloss: 0.0663699\n",
      "[43]\tvalid_0's multi_logloss: 0.0654215\n",
      "[44]\tvalid_0's multi_logloss: 0.0645593\n",
      "[45]\tvalid_0's multi_logloss: 0.0638415\n",
      "[46]\tvalid_0's multi_logloss: 0.0630747\n",
      "[47]\tvalid_0's multi_logloss: 0.062586\n",
      "[48]\tvalid_0's multi_logloss: 0.0617544\n",
      "[49]\tvalid_0's multi_logloss: 0.061204\n",
      "[50]\tvalid_0's multi_logloss: 0.0605874\n",
      "[51]\tvalid_0's multi_logloss: 0.0598344\n",
      "[52]\tvalid_0's multi_logloss: 0.0619161\n",
      "[53]\tvalid_0's multi_logloss: 0.0612873\n",
      "[54]\tvalid_0's multi_logloss: 0.0586448\n",
      "[55]\tvalid_0's multi_logloss: 0.0610904\n",
      "[56]\tvalid_0's multi_logloss: 0.0607905\n",
      "[57]\tvalid_0's multi_logloss: 0.0621457\n",
      "[58]\tvalid_0's multi_logloss: 0.0615181\n",
      "[59]\tvalid_0's multi_logloss: 0.0611689\n",
      "[60]\tvalid_0's multi_logloss: 0.0584116\n",
      "[61]\tvalid_0's multi_logloss: 0.0582484\n",
      "[62]\tvalid_0's multi_logloss: 0.0580556\n",
      "[63]\tvalid_0's multi_logloss: 0.0571402\n",
      "[64]\tvalid_0's multi_logloss: 0.0586396\n",
      "[65]\tvalid_0's multi_logloss: 0.0583606\n",
      "[66]\tvalid_0's multi_logloss: 0.057821\n",
      "[67]\tvalid_0's multi_logloss: 0.0579217\n",
      "[68]\tvalid_0's multi_logloss: 0.0573647\n",
      "[69]\tvalid_0's multi_logloss: 0.0572893\n",
      "[70]\tvalid_0's multi_logloss: 0.0569474\n",
      "[71]\tvalid_0's multi_logloss: 0.0566091\n",
      "[72]\tvalid_0's multi_logloss: 0.0561137\n",
      "[73]\tvalid_0's multi_logloss: 0.0560143\n",
      "[74]\tvalid_0's multi_logloss: 0.0558694\n",
      "[75]\tvalid_0's multi_logloss: 0.055691\n",
      "[76]\tvalid_0's multi_logloss: 0.0554499\n",
      "[77]\tvalid_0's multi_logloss: 0.0554127\n",
      "[78]\tvalid_0's multi_logloss: 0.0552811\n",
      "[79]\tvalid_0's multi_logloss: 0.0549169\n",
      "[80]\tvalid_0's multi_logloss: 0.0547873\n",
      "[81]\tvalid_0's multi_logloss: 0.05444\n",
      "[82]\tvalid_0's multi_logloss: 0.0540521\n",
      "[83]\tvalid_0's multi_logloss: 0.0537398\n",
      "[84]\tvalid_0's multi_logloss: 0.0537217\n",
      "[85]\tvalid_0's multi_logloss: 0.0536157\n",
      "[86]\tvalid_0's multi_logloss: 0.0534829\n",
      "[87]\tvalid_0's multi_logloss: 0.0531931\n",
      "[88]\tvalid_0's multi_logloss: 0.0530452\n",
      "[89]\tvalid_0's multi_logloss: 0.0528474\n",
      "[90]\tvalid_0's multi_logloss: 0.0524575\n",
      "[91]\tvalid_0's multi_logloss: 0.0522664\n",
      "[92]\tvalid_0's multi_logloss: 0.051894\n",
      "[93]\tvalid_0's multi_logloss: 0.051604\n",
      "[94]\tvalid_0's multi_logloss: 0.0513451\n",
      "[95]\tvalid_0's multi_logloss: 0.0510776\n",
      "[96]\tvalid_0's multi_logloss: 0.0533503\n",
      "[97]\tvalid_0's multi_logloss: 0.0529223\n",
      "[98]\tvalid_0's multi_logloss: 0.0527085\n",
      "[99]\tvalid_0's multi_logloss: 0.0525592\n",
      "[100]\tvalid_0's multi_logloss: 0.0521729\n",
      "Did not meet early stopping. Best iteration is:\n",
      "[95]\tvalid_0's multi_logloss: 0.0510776\n"
     ]
    }
   ],
   "source": [
    "#ここからlightbgm\n",
    "import lightgbm as lgb\n",
    "import numpy as np\n",
    "\n",
    "lgb_train = lgb.Dataset(X_train, y_train.as_matrix().ravel())\n",
    "lgb_eval = lgb.Dataset(X_test, y_test.as_matrix().ravel(), reference=lgb_train)\n",
    "params = {\n",
    "        'task': 'train',\n",
    "        'boosting_type': 'gbdt',\n",
    "        'objective': 'multiclass',\n",
    "        'metric': {'multi_logloss'},\n",
    "        'num_class': 3,\n",
    "        'learning_rate': 0.1,\n",
    "        'num_leaves': 23,\n",
    "        'min_data_in_leaf': 1,\n",
    "        'num_iteration': 100,\n",
    "        'verbose': 0\n",
    "}\n",
    "gbm = lgb.train(params,\n",
    "            lgb_train,\n",
    "            num_boost_round=50,\n",
    "            valid_sets=lgb_eval,\n",
    "            early_stopping_rounds=10)\n",
    "y_pred = gbm.predict(X_test, num_iteration=gbm.best_iteration)\n",
    "y_pred = np.argmax(y_pred, axis=1)"
   ]
  },
  {
   "cell_type": "code",
   "execution_count": 8,
   "metadata": {
    "collapsed": false,
    "scrolled": true
   },
   "outputs": [
    {
     "name": "stdout",
     "output_type": "stream",
     "text": [
      "0.987142857143\n"
     ]
    }
   ],
   "source": [
    "#accuracy scoreの算出\n",
    "from sklearn.metrics import accuracy_score\n",
    "accu_test = accuracy_score(y_test, y_pred)\n",
    "print(accu_test)\n",
    "#以前は0.98380952381。これでいくと0.987142857143\n"
   ]
  },
  {
   "cell_type": "markdown",
   "metadata": {
    "scrolled": true
   },
   "source": [
    "テストデータの読み込み"
   ]
  },
  {
   "cell_type": "code",
   "execution_count": 9,
   "metadata": {
    "collapsed": true
   },
   "outputs": [],
   "source": [
    "# read final_hr_analysis_test.csv\n",
    "df_test = pd.read_csv('test.csv', header=0).replace(\"low\",0).replace(\"medium\",1).replace(\"high\",2).replace(\"RandD\",0).replace(\"management\",1).replace(\"hr\",2).replace(\"IT\",3).replace(\"technical\",4).replace(\"product_mng\",5).replace(\"accounting\",6).replace(\"support\",7).replace(\"sales\",8).replace(\"marketing\",9)"
   ]
  },
  {
   "cell_type": "code",
   "execution_count": 10,
   "metadata": {
    "collapsed": false
   },
   "outputs": [
    {
     "data": {
      "text/html": [
       "<div>\n",
       "<table border=\"1\" class=\"dataframe\">\n",
       "  <thead>\n",
       "    <tr style=\"text-align: right;\">\n",
       "      <th></th>\n",
       "      <th>index</th>\n",
       "      <th>left</th>\n",
       "      <th>satisfaction_level</th>\n",
       "      <th>last_evaluation</th>\n",
       "      <th>number_project</th>\n",
       "      <th>average_montly_hours</th>\n",
       "      <th>time_spend_company</th>\n",
       "      <th>Work_accident</th>\n",
       "      <th>promotion_last_5years</th>\n",
       "      <th>sales</th>\n",
       "      <th>salary</th>\n",
       "    </tr>\n",
       "  </thead>\n",
       "  <tbody>\n",
       "    <tr>\n",
       "      <th>0</th>\n",
       "      <td>1670</td>\n",
       "      <td>NaN</td>\n",
       "      <td>0.44</td>\n",
       "      <td>0.57</td>\n",
       "      <td>2</td>\n",
       "      <td>141</td>\n",
       "      <td>3</td>\n",
       "      <td>0</td>\n",
       "      <td>0</td>\n",
       "      <td>5</td>\n",
       "      <td>1</td>\n",
       "    </tr>\n",
       "    <tr>\n",
       "      <th>1</th>\n",
       "      <td>13378</td>\n",
       "      <td>NaN</td>\n",
       "      <td>0.55</td>\n",
       "      <td>0.96</td>\n",
       "      <td>3</td>\n",
       "      <td>194</td>\n",
       "      <td>3</td>\n",
       "      <td>0</td>\n",
       "      <td>0</td>\n",
       "      <td>5</td>\n",
       "      <td>1</td>\n",
       "    </tr>\n",
       "    <tr>\n",
       "      <th>2</th>\n",
       "      <td>10233</td>\n",
       "      <td>NaN</td>\n",
       "      <td>0.72</td>\n",
       "      <td>0.67</td>\n",
       "      <td>5</td>\n",
       "      <td>210</td>\n",
       "      <td>2</td>\n",
       "      <td>0</td>\n",
       "      <td>0</td>\n",
       "      <td>1</td>\n",
       "      <td>1</td>\n",
       "    </tr>\n",
       "  </tbody>\n",
       "</table>\n",
       "</div>"
      ],
      "text/plain": [
       "   index  left  satisfaction_level  last_evaluation  number_project  \\\n",
       "0   1670   NaN                0.44             0.57               2   \n",
       "1  13378   NaN                0.55             0.96               3   \n",
       "2  10233   NaN                0.72             0.67               5   \n",
       "\n",
       "   average_montly_hours  time_spend_company  Work_accident  \\\n",
       "0                   141                   3              0   \n",
       "1                   194                   3              0   \n",
       "2                   210                   2              0   \n",
       "\n",
       "   promotion_last_5years  sales  salary  \n",
       "0                      0      5       1  \n",
       "1                      0      5       1  \n",
       "2                      0      1       1  "
      ]
     },
     "execution_count": 10,
     "metadata": {},
     "output_type": "execute_result"
    }
   ],
   "source": [
    "df_test.head(3)"
   ]
  },
  {
   "cell_type": "code",
   "execution_count": 11,
   "metadata": {
    "collapsed": true
   },
   "outputs": [],
   "source": [
    "# delete index and left columns\n",
    "X_testfile  = df_test.drop(['index','left'], axis=1)\n",
    "ID_testfile = df_test.loc[:, ['index']]"
   ]
  },
  {
   "cell_type": "code",
   "execution_count": 12,
   "metadata": {
    "collapsed": false
   },
   "outputs": [
    {
     "data": {
      "text/html": [
       "<div>\n",
       "<table border=\"1\" class=\"dataframe\">\n",
       "  <thead>\n",
       "    <tr style=\"text-align: right;\">\n",
       "      <th></th>\n",
       "      <th>satisfaction_level</th>\n",
       "      <th>last_evaluation</th>\n",
       "      <th>number_project</th>\n",
       "      <th>average_montly_hours</th>\n",
       "      <th>time_spend_company</th>\n",
       "      <th>Work_accident</th>\n",
       "      <th>promotion_last_5years</th>\n",
       "      <th>sales</th>\n",
       "      <th>salary</th>\n",
       "    </tr>\n",
       "  </thead>\n",
       "  <tbody>\n",
       "    <tr>\n",
       "      <th>0</th>\n",
       "      <td>0.44</td>\n",
       "      <td>0.57</td>\n",
       "      <td>2</td>\n",
       "      <td>141</td>\n",
       "      <td>3</td>\n",
       "      <td>0</td>\n",
       "      <td>0</td>\n",
       "      <td>5</td>\n",
       "      <td>1</td>\n",
       "    </tr>\n",
       "    <tr>\n",
       "      <th>1</th>\n",
       "      <td>0.55</td>\n",
       "      <td>0.96</td>\n",
       "      <td>3</td>\n",
       "      <td>194</td>\n",
       "      <td>3</td>\n",
       "      <td>0</td>\n",
       "      <td>0</td>\n",
       "      <td>5</td>\n",
       "      <td>1</td>\n",
       "    </tr>\n",
       "    <tr>\n",
       "      <th>2</th>\n",
       "      <td>0.72</td>\n",
       "      <td>0.67</td>\n",
       "      <td>5</td>\n",
       "      <td>210</td>\n",
       "      <td>2</td>\n",
       "      <td>0</td>\n",
       "      <td>0</td>\n",
       "      <td>1</td>\n",
       "      <td>1</td>\n",
       "    </tr>\n",
       "    <tr>\n",
       "      <th>3</th>\n",
       "      <td>0.96</td>\n",
       "      <td>0.75</td>\n",
       "      <td>4</td>\n",
       "      <td>177</td>\n",
       "      <td>2</td>\n",
       "      <td>0</td>\n",
       "      <td>0</td>\n",
       "      <td>3</td>\n",
       "      <td>0</td>\n",
       "    </tr>\n",
       "    <tr>\n",
       "      <th>4</th>\n",
       "      <td>0.96</td>\n",
       "      <td>0.54</td>\n",
       "      <td>3</td>\n",
       "      <td>198</td>\n",
       "      <td>3</td>\n",
       "      <td>0</td>\n",
       "      <td>0</td>\n",
       "      <td>7</td>\n",
       "      <td>0</td>\n",
       "    </tr>\n",
       "  </tbody>\n",
       "</table>\n",
       "</div>"
      ],
      "text/plain": [
       "   satisfaction_level  last_evaluation  number_project  average_montly_hours  \\\n",
       "0                0.44             0.57               2                   141   \n",
       "1                0.55             0.96               3                   194   \n",
       "2                0.72             0.67               5                   210   \n",
       "3                0.96             0.75               4                   177   \n",
       "4                0.96             0.54               3                   198   \n",
       "\n",
       "   time_spend_company  Work_accident  promotion_last_5years  sales  salary  \n",
       "0                   3              0                      0      5       1  \n",
       "1                   3              0                      0      5       1  \n",
       "2                   2              0                      0      1       1  \n",
       "3                   2              0                      0      3       0  \n",
       "4                   3              0                      0      7       0  "
      ]
     },
     "execution_count": 12,
     "metadata": {},
     "output_type": "execute_result"
    }
   ],
   "source": [
    "X_testfile.head(5)"
   ]
  },
  {
   "cell_type": "code",
   "execution_count": 13,
   "metadata": {
    "collapsed": true
   },
   "outputs": [],
   "source": [
    "y_clus_test = km.fit_predict(X_testfile)\n",
    "X_testfile['cluster_id']=y_clus_test\n",
    "\n",
    "y_clus_test0 = np.where(y_clus_test == 0, 0.514440, y_clus_test)\n",
    "y_clus_test1 = np.where(y_clus_test0 == 1, 0.647480, y_clus_test0)\n",
    "y_clus_test2 = np.where(y_clus_test1 == 2, 0.171819, y_clus_test1)\n",
    "y_clus_test3 = np.where(y_clus_test2 == 3, 0.658440, y_clus_test2)\n",
    "y_clus_test4 = np.where(y_clus_test3 == 4, 0.762524, y_clus_test3)\n",
    "y_clus_test5 = np.where(y_clus_test4 == 5, 0.660154, y_clus_test4)\n",
    "X_testfile['cluster_id_value']=y_clus_test5"
   ]
  },
  {
   "cell_type": "code",
   "execution_count": 14,
   "metadata": {
    "collapsed": false,
    "scrolled": true
   },
   "outputs": [
    {
     "data": {
      "text/html": [
       "<div>\n",
       "<table border=\"1\" class=\"dataframe\">\n",
       "  <thead>\n",
       "    <tr style=\"text-align: right;\">\n",
       "      <th></th>\n",
       "      <th>satisfaction_level</th>\n",
       "      <th>last_evaluation</th>\n",
       "      <th>number_project</th>\n",
       "      <th>average_montly_hours</th>\n",
       "      <th>time_spend_company</th>\n",
       "      <th>Work_accident</th>\n",
       "      <th>promotion_last_5years</th>\n",
       "      <th>sales</th>\n",
       "      <th>salary</th>\n",
       "      <th>cluster_id</th>\n",
       "      <th>cluster_id_value</th>\n",
       "    </tr>\n",
       "  </thead>\n",
       "  <tbody>\n",
       "    <tr>\n",
       "      <th>0</th>\n",
       "      <td>0.44</td>\n",
       "      <td>0.57</td>\n",
       "      <td>2</td>\n",
       "      <td>141</td>\n",
       "      <td>3</td>\n",
       "      <td>0</td>\n",
       "      <td>0</td>\n",
       "      <td>5</td>\n",
       "      <td>1</td>\n",
       "      <td>3</td>\n",
       "      <td>0.658440</td>\n",
       "    </tr>\n",
       "    <tr>\n",
       "      <th>1</th>\n",
       "      <td>0.55</td>\n",
       "      <td>0.96</td>\n",
       "      <td>3</td>\n",
       "      <td>194</td>\n",
       "      <td>3</td>\n",
       "      <td>0</td>\n",
       "      <td>0</td>\n",
       "      <td>5</td>\n",
       "      <td>1</td>\n",
       "      <td>4</td>\n",
       "      <td>0.762524</td>\n",
       "    </tr>\n",
       "    <tr>\n",
       "      <th>2</th>\n",
       "      <td>0.72</td>\n",
       "      <td>0.67</td>\n",
       "      <td>5</td>\n",
       "      <td>210</td>\n",
       "      <td>2</td>\n",
       "      <td>0</td>\n",
       "      <td>0</td>\n",
       "      <td>1</td>\n",
       "      <td>1</td>\n",
       "      <td>0</td>\n",
       "      <td>0.514440</td>\n",
       "    </tr>\n",
       "  </tbody>\n",
       "</table>\n",
       "</div>"
      ],
      "text/plain": [
       "   satisfaction_level  last_evaluation  number_project  average_montly_hours  \\\n",
       "0                0.44             0.57               2                   141   \n",
       "1                0.55             0.96               3                   194   \n",
       "2                0.72             0.67               5                   210   \n",
       "\n",
       "   time_spend_company  Work_accident  promotion_last_5years  sales  salary  \\\n",
       "0                   3              0                      0      5       1   \n",
       "1                   3              0                      0      5       1   \n",
       "2                   2              0                      0      1       1   \n",
       "\n",
       "   cluster_id  cluster_id_value  \n",
       "0           3          0.658440  \n",
       "1           4          0.762524  \n",
       "2           0          0.514440  "
      ]
     },
     "execution_count": 14,
     "metadata": {},
     "output_type": "execute_result"
    }
   ],
   "source": [
    "X_testfile.head(3)"
   ]
  },
  {
   "cell_type": "code",
   "execution_count": 15,
   "metadata": {
    "collapsed": false,
    "scrolled": true
   },
   "outputs": [
    {
     "data": {
      "text/html": [
       "<div>\n",
       "<table border=\"1\" class=\"dataframe\">\n",
       "  <thead>\n",
       "    <tr style=\"text-align: right;\">\n",
       "      <th></th>\n",
       "      <th>satisfaction_level</th>\n",
       "      <th>last_evaluation</th>\n",
       "      <th>number_project</th>\n",
       "      <th>average_montly_hours</th>\n",
       "      <th>time_spend_company</th>\n",
       "      <th>Work_accident</th>\n",
       "      <th>promotion_last_5years</th>\n",
       "      <th>sales</th>\n",
       "      <th>salary</th>\n",
       "      <th>cluster_id</th>\n",
       "      <th>cluster_id_value</th>\n",
       "    </tr>\n",
       "  </thead>\n",
       "  <tbody>\n",
       "    <tr>\n",
       "      <th>2847</th>\n",
       "      <td>0.90</td>\n",
       "      <td>0.98</td>\n",
       "      <td>4</td>\n",
       "      <td>264</td>\n",
       "      <td>6</td>\n",
       "      <td>0</td>\n",
       "      <td>0</td>\n",
       "      <td>5</td>\n",
       "      <td>1</td>\n",
       "      <td>5</td>\n",
       "      <td>0.660154</td>\n",
       "    </tr>\n",
       "    <tr>\n",
       "      <th>5790</th>\n",
       "      <td>0.38</td>\n",
       "      <td>0.50</td>\n",
       "      <td>2</td>\n",
       "      <td>139</td>\n",
       "      <td>3</td>\n",
       "      <td>0</td>\n",
       "      <td>0</td>\n",
       "      <td>0</td>\n",
       "      <td>0</td>\n",
       "      <td>2</td>\n",
       "      <td>0.171819</td>\n",
       "    </tr>\n",
       "    <tr>\n",
       "      <th>10134</th>\n",
       "      <td>0.87</td>\n",
       "      <td>0.84</td>\n",
       "      <td>4</td>\n",
       "      <td>264</td>\n",
       "      <td>6</td>\n",
       "      <td>0</td>\n",
       "      <td>0</td>\n",
       "      <td>7</td>\n",
       "      <td>0</td>\n",
       "      <td>0</td>\n",
       "      <td>0.514440</td>\n",
       "    </tr>\n",
       "  </tbody>\n",
       "</table>\n",
       "</div>"
      ],
      "text/plain": [
       "       satisfaction_level  last_evaluation  number_project  \\\n",
       "2847                 0.90             0.98               4   \n",
       "5790                 0.38             0.50               2   \n",
       "10134                0.87             0.84               4   \n",
       "\n",
       "       average_montly_hours  time_spend_company  Work_accident  \\\n",
       "2847                    264                   6              0   \n",
       "5790                    139                   3              0   \n",
       "10134                   264                   6              0   \n",
       "\n",
       "       promotion_last_5years  sales  salary  cluster_id  cluster_id_value  \n",
       "2847                       0      5       1           5          0.660154  \n",
       "5790                       0      0       0           2          0.171819  \n",
       "10134                      0      7       0           0          0.514440  "
      ]
     },
     "execution_count": 15,
     "metadata": {},
     "output_type": "execute_result"
    }
   ],
   "source": [
    "X_train.head(3)"
   ]
  },
  {
   "cell_type": "code",
   "execution_count": 16,
   "metadata": {
    "collapsed": false
   },
   "outputs": [
    {
     "data": {
      "text/plain": [
       "array([[  1.82749678e-02,   9.81725032e-01,   1.29014106e-16],\n",
       "       [  9.98652133e-01,   1.34786740e-03,   3.53382190e-17],\n",
       "       [  9.98105805e-01,   1.89419520e-03,   4.18807656e-17]])"
      ]
     },
     "execution_count": 16,
     "metadata": {},
     "output_type": "execute_result"
    }
   ],
   "source": [
    "y_pred_test = gbm.predict(X_testfile, num_iteration=gbm.best_iteration)\n",
    "#y_pred_test = np.argmax(y_pred_test, axis=1)\n",
    "y_pred_test[:3]\n"
   ]
  },
  {
   "cell_type": "code",
   "execution_count": 17,
   "metadata": {
    "collapsed": true
   },
   "outputs": [],
   "source": [
    "#保存\n",
    "import numpy\n",
    "numpy.savetxt(\"result_lightgbm_clust.csv\", y_pred_test, delimiter=\",\",fmt='%.6f')\n",
    "#numpy.savetxt(\"result_proba.csv\", Y_pred_proba, delimiter=\",\",fmt='%.f')"
   ]
  },
  {
   "cell_type": "code",
   "execution_count": 18,
   "metadata": {
    "collapsed": true
   },
   "outputs": [],
   "source": [
    "#おまじない\n",
    "testfile_data = df_test.values\n",
    "#CSVに保存\n",
    "import csv\n",
    "with open(\"032518_predict_result_lightgbm_clustdata.csv\", \"w\") as f:\n",
    "    writer = csv.writer(f, lineterminator='\\n')\n",
    "    writer.writerow([\"Id\", \"left\"])\n",
    "    for pid, survived in zip(testfile_data[:,0].astype(int), y_pred_test[:,1].astype(numpy.float64)):\n",
    "        writer.writerow([pid, survived])"
   ]
  },
  {
   "cell_type": "code",
   "execution_count": null,
   "metadata": {
    "collapsed": true
   },
   "outputs": [],
   "source": []
  }
 ],
 "metadata": {
  "kernelspec": {
   "display_name": "Python 3",
   "language": "python",
   "name": "python3"
  },
  "language_info": {
   "codemirror_mode": {
    "name": "ipython",
    "version": 3
   },
   "file_extension": ".py",
   "mimetype": "text/x-python",
   "name": "python",
   "nbconvert_exporter": "python",
   "pygments_lexer": "ipython3",
   "version": "3.6.0"
  }
 },
 "nbformat": 4,
 "nbformat_minor": 2
}
